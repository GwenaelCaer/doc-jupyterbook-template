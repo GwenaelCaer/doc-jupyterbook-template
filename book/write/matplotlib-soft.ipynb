{
 "cells": [
  {
   "cell_type": "markdown",
   "id": "40fcc5f0-95c5-44f0-b8a0-0c11e941d058",
   "metadata": {},
   "source": [
    "# Introduction to Matplotlib\n",
    "\n",
    "<img src=https://matplotlib.org/stable/_images/sphx_glr_logos2_003.png width=250 alt=\"Matplotlib Logo\"></img>\n",
    "\n",
    "---"
   ]
  },
  {
   "cell_type": "markdown",
   "id": "3bb539fe-41a4-43b8-ac32-93344b84c7a9",
   "metadata": {},
   "source": [
    "Matplotlib is a library for making 2D plots in Python. It is designed with the philosophy that you should be able to create simple plots with just a few commands:"
   ]
  },
  {
   "cell_type": "code",
   "execution_count": 1,
   "id": "7378d591-6385-4154-b158-a2f6bfdae83d",
   "metadata": {},
   "outputs": [
    {
     "data": {
      "image/png": "[encoded data removed]",
      "text/plain": [
       "<Figure size 300x300 with 1 Axes>"
      ]
     },
     "metadata": {},
     "output_type": "display_data"
    }
   ],
   "source": [
    "import numpy as np\n",
    "import matplotlib.pyplot as plt\n",
    "\n",
    "X = np.arange(10)\n",
    "Y = np.random.uniform(0, 10, 10)\n",
    "\n",
    "fig, ax = plt.subplots(figsize=(3, 3))\n",
    "ax.bar(X, Y)\n",
    "plt.show()"
   ]
  }
 ],
 "metadata": {
  "kernelspec": {
   "display_name": "Python 3 (ipykernel)",
   "language": "python",
   "name": "python3"
  },
  "language_info": {
   "codemirror_mode": {
    "name": "ipython",
    "version": 3
   },
   "file_extension": ".py",
   "mimetype": "text/x-python",
   "name": "python",
   "nbconvert_exporter": "python",
   "pygments_lexer": "ipython3",
   "version": "3.10.18"
  }
 },
 "nbformat": 4,
 "nbformat_minor": 5
}
