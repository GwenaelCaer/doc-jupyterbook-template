{
 "cells": [
  {
   "cell_type": "markdown",
   "id": "b5607225-d675-4f85-9a68-59e38c380b51",
   "metadata": {},
   "source": [
    "# Introduction to Output Types in a Notebook\n",
    "\n",
    "Notebooks allow you to display **different types of results** directly from Python code.  \n",
    "Here are some simple examples to illustrate this interactivity.\n",
    "\n",
    "## 1. Displaying a Simple Value\n",
    "\n",
    "You can display the result of an expression directly:"
   ]
  },
  {
   "cell_type": "code",
   "execution_count": null,
   "id": "8acaf2f8-1ee4-47c0-b76f-99bf9240f3a4",
   "metadata": {},
   "outputs": [],
   "source": [
    "# A numeric value\n",
    "42"
   ]
  },
  {
   "cell_type": "markdown",
   "id": "565fd062-86e2-4f64-8ab7-7f59f97fff14",
   "metadata": {},
   "source": [
    "## 2. Displaying a String"
   ]
  },
  {
   "cell_type": "code",
   "execution_count": null,
   "id": "24eee1df-1d1c-4e74-92cb-321c2ed0abee",
   "metadata": {},
   "outputs": [],
   "source": [
    "# Simple text\n",
    "\"Hello from Jupyter Notebook!\""
   ]
  },
  {
   "cell_type": "markdown",
   "id": "a3e194e6-1f7e-41c3-8b3f-5ac0ddacfa63",
   "metadata": {},
   "source": [
    "## 3. Calculations and Operations"
   ]
  },
  {
   "cell_type": "code",
   "execution_count": null,
   "id": "56f5022b-68f8-4965-9d8b-cbf0a12fbb19",
   "metadata": {},
   "outputs": [],
   "source": [
    "# A mathematical operation\n",
    "2 * 7 + 3"
   ]
  },
  {
   "cell_type": "markdown",
   "id": "b2020e44-5a83-4b1c-bf09-42ad0f40abaa",
   "metadata": {},
   "source": [
    "## 4. List and Dictionary"
   ]
  },
  {
   "cell_type": "code",
   "execution_count": null,
   "id": "ddf3386b-952f-4bd8-919f-0b0e8d03303a",
   "metadata": {},
   "outputs": [],
   "source": [
    "# A list\n",
    "[1, 2, 3, 4, 5]\n",
    "\n",
    "# A dictionary\n",
    "{\"name\": \"Alice\", \"age\": 30}"
   ]
  },
  {
   "cell_type": "markdown",
   "id": "4e8e1e80-0773-4739-b698-6e3fdf29a7c2",
   "metadata": {},
   "source": [
    "## 5. Simple Plot with Matplotlib"
   ]
  },
  {
   "cell_type": "code",
   "execution_count": null,
   "id": "aa41a476-591c-4569-b41c-38940b1b82c9",
   "metadata": {},
   "outputs": [],
   "source": [
    "import matplotlib.pyplot as plt\n",
    "\n",
    "x = [1, 2, 3, 4]\n",
    "y = [10, 20, 25, 30]\n",
    "\n",
    "plt.plot(x, y, marker='o')\n",
    "plt.title(\"Example Plot\")\n",
    "plt.xlabel(\"X\")\n",
    "plt.ylabel(\"Y\")\n",
    "plt.show()"
   ]
  },
  {
   "cell_type": "markdown",
   "id": "a32dc68b-1f2c-4feb-85db-18e11b0979b0",
   "metadata": {},
   "source": [
    "## 6. Table of Data with Pandas"
   ]
  },
  {
   "cell_type": "code",
   "execution_count": null,
   "id": "a98becf0-b09d-4735-91f9-974734ac6755",
   "metadata": {},
   "outputs": [],
   "source": [
    "import pandas as pd\n",
    "\n",
    "df = pd.DataFrame({\n",
    "    \"Name\": [\"Alice\", \"Bob\", \"Charlie\"],\n",
    "    \"Score\": [85, 90, 78]\n",
    "})\n",
    "\n",
    "df"
   ]
  },
  {
   "cell_type": "markdown",
   "id": "6d9e75f4-16a0-41ec-aee0-d0a5fd4a30b2",
   "metadata": {},
   "source": [
    "## 7. Displaying an Image"
   ]
  },
  {
   "cell_type": "code",
   "execution_count": null,
   "id": "898ef772-eb3d-4a65-9a88-707bfc6997ff",
   "metadata": {},
   "outputs": [],
   "source": [
    "from IPython.display import Image\n",
    "\n",
    "# Display a local or web image\n",
    "Image(url=\"https://www.python.org/static/community_logos/python-logo.png\", width=200)"
   ]
  }
 ],
 "metadata": {
  "kernelspec": {
   "display_name": "odatis-dev",
   "language": "python",
   "name": "odatis-dev"
  },
  "language_info": {
   "codemirror_mode": {
    "name": "ipython",
    "version": 3
   },
   "file_extension": ".py",
   "mimetype": "text/x-python",
   "name": "python",
   "nbconvert_exporter": "python",
   "pygments_lexer": "ipython3",
   "version": "3.12.8"
  }
 },
 "nbformat": 4,
 "nbformat_minor": 5
}
